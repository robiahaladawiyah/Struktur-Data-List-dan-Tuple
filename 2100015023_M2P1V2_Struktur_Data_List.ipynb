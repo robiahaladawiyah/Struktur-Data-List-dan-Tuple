{
  "nbformat": 4,
  "nbformat_minor": 0,
  "metadata": {
    "colab": {
      "name": "2100015023_M2P1V2_Struktur_Data_List.ipynb",
      "provenance": []
    },
    "kernelspec": {
      "name": "python3",
      "display_name": "Python 3"
    },
    "language_info": {
      "name": "python"
    }
  },
  "cells": [
    {
      "cell_type": "markdown",
      "source": [
        "\n",
        "Nama : Robiah Al Adawiyah\n",
        "\n",
        "Nim : 2100015023\n"
      ],
      "metadata": {
        "id": "31KOrk2MgB-t"
      }
    },
    {
      "cell_type": "markdown",
      "source": [
        "# **List**\n",
        "\n",
        "\n",
        "List adalah jenis kumpulan data terurut (ordered sequence) dan merupakan salah satu variabel yang sering digunakan pada python. Serupa, namun tak sama dengan array pada bahasa pemrograman lainnya. Bedanya, pada python tidak harus memiliki tipe data yang sama. Mendeklarasikan List cukup mudah dengan kurung siku dan elemen yang dipisahkan dengan koma. setiap data di dalamnya dapat diakses dengan indeks yang dimulai dari 0."
      ],
      "metadata": {
        "id": "Bc9_e8figGmY"
      }
    },
    {
      "cell_type": "code",
      "source": [
        "# contoh List\n",
        "L1 = [1, 4, 2, 13]\n",
        " \n",
        "print(type(L1))"
      ],
      "metadata": {
        "colab": {
          "base_uri": "https://localhost:8080/"
        },
        "id": "ZfKg41sbgGA6",
        "outputId": "83aa801c-69b4-4db0-abb1-cd60899a78a2"
      },
      "execution_count": null,
      "outputs": [
        {
          "output_type": "stream",
          "name": "stdout",
          "text": [
            "<class 'list'>\n"
          ]
        }
      ]
    },
    {
      "cell_type": "code",
      "source": [
        "L2 = [\"a\", \"Python\",3]\n",
        "L2"
      ],
      "metadata": {
        "colab": {
          "base_uri": "https://localhost:8080/"
        },
        "id": "IJyDmc0SgQfx",
        "outputId": "f557e3b6-09ac-402a-9559-afd41bef87bd"
      },
      "execution_count": null,
      "outputs": [
        {
          "output_type": "execute_result",
          "data": {
            "text/plain": [
              "['a', 'Python', 3]"
            ]
          },
          "metadata": {},
          "execution_count": 3
        }
      ]
    },
    {
      "cell_type": "code",
      "source": [
        "print(L1)\n",
        "print(L2)"
      ],
      "metadata": {
        "colab": {
          "base_uri": "https://localhost:8080/"
        },
        "id": "vKWfk7MpgSyJ",
        "outputId": "c0306723-364f-4793-b7e1-86aed92fa067"
      },
      "execution_count": null,
      "outputs": [
        {
          "output_type": "stream",
          "name": "stdout",
          "text": [
            "[1, 4, 2, 13]\n",
            "['a', 'Python', 3]\n"
          ]
        }
      ]
    },
    {
      "cell_type": "markdown",
      "source": [
        "# **Latihan 1**"
      ],
      "metadata": {
        "id": "FJ64e9vygWis"
      }
    },
    {
      "cell_type": "code",
      "source": [
        "# Buatlah List kalian sendiri\n",
        "\n",
        "L3 = [4, 28, 3, 4, 11]\n",
        "\n",
        "print(type(L3))\n",
        "L3"
      ],
      "metadata": {
        "colab": {
          "base_uri": "https://localhost:8080/"
        },
        "id": "yDKLj25xgVB5",
        "outputId": "0a30732c-f025-4e30-a393-14c8a9da9e85"
      },
      "execution_count": null,
      "outputs": [
        {
          "output_type": "stream",
          "name": "stdout",
          "text": [
            "<class 'list'>\n"
          ]
        },
        {
          "output_type": "execute_result",
          "data": {
            "text/plain": [
              "[4, 28, 3, 4, 11]"
            ]
          },
          "metadata": {},
          "execution_count": 5
        }
      ]
    },
    {
      "cell_type": "code",
      "source": [
        "L4 = [\"mangga\", \"11\", \"apel\", \"G\"]\n",
        "L4"
      ],
      "metadata": {
        "colab": {
          "base_uri": "https://localhost:8080/"
        },
        "id": "ULussyXwgde8",
        "outputId": "78ffb30a-5a15-4697-df68-f5c97aafab48"
      },
      "execution_count": null,
      "outputs": [
        {
          "output_type": "execute_result",
          "data": {
            "text/plain": [
              "['mangga', '11', 'apel', 'G']"
            ]
          },
          "metadata": {},
          "execution_count": 6
        }
      ]
    },
    {
      "cell_type": "code",
      "source": [
        "L5 = [\"aku\", \"5\", \"kamu\", \"10\"]\n",
        "L5"
      ],
      "metadata": {
        "colab": {
          "base_uri": "https://localhost:8080/"
        },
        "id": "cz0mGc-Lgf8-",
        "outputId": "232e4da4-c6a0-424d-955c-f6091bdaf627"
      },
      "execution_count": null,
      "outputs": [
        {
          "output_type": "execute_result",
          "data": {
            "text/plain": [
              "['aku', '5', 'kamu', '10']"
            ]
          },
          "metadata": {},
          "execution_count": 7
        }
      ]
    },
    {
      "cell_type": "code",
      "source": [
        "print(L3)\n",
        "print(L4)\n",
        "print(L5)"
      ],
      "metadata": {
        "colab": {
          "base_uri": "https://localhost:8080/"
        },
        "id": "PL_nON6JgjxH",
        "outputId": "ff558d56-5923-4ab7-9a98-33f08412e559"
      },
      "execution_count": null,
      "outputs": [
        {
          "output_type": "stream",
          "name": "stdout",
          "text": [
            "[4, 28, 3, 4, 11]\n",
            "['mangga', '11', 'apel', 'G']\n",
            "['aku', '5', 'kamu', '10']\n"
          ]
        }
      ]
    },
    {
      "cell_type": "markdown",
      "source": [
        "**Indeks di Python (List,Tuple) mulai dari 0**"
      ],
      "metadata": {
        "id": "OwaNG9lGg5f4"
      }
    },
    {
      "cell_type": "code",
      "source": [
        "# Sifat-sifat List\n",
        "\n",
        "# Terurut/ordered\n",
        "print('Memanggil List L1 dengan indeks urutan:', L1[0:3])\n",
        "\n",
        "# Bisa diganti/Mutable\n",
        "L1[1] = 2\n",
        "print(\"List l1 setelah diganti elemennya: \", L1)\n",
        "\n",
        "L1 = [1, \"dua\", True, 2+3j]\n",
        "\n",
        "# Dapat diindeks/Slicing\n",
        "print(\"slicing List L1: \", L1[3])\n",
        "\n",
        "# Dapat diijinkan Duplikasi\n",
        "L1 = [1, \"dua\", True, 2+3j, 2+3j]\n",
        "print(\"Duplikasi pada List L1: \",L1)"
      ],
      "metadata": {
        "colab": {
          "base_uri": "https://localhost:8080/"
        },
        "id": "SnsrOjVjg2cv",
        "outputId": "c4f45436-ef82-41b8-fb3c-c156db5e69f9"
      },
      "execution_count": null,
      "outputs": [
        {
          "output_type": "stream",
          "name": "stdout",
          "text": [
            "Memanggil List L1 dengan indeks urutan: [1, 4, 2]\n",
            "List l1 setelah diganti elemennya:  [1, 2, 2, 13]\n",
            "slicing List L1:  (2+3j)\n",
            "Duplikasi pada List L1:  [1, 'dua', True, (2+3j), (2+3j)]\n"
          ]
        }
      ]
    },
    {
      "cell_type": "markdown",
      "source": [
        "# **Latihan 2**"
      ],
      "metadata": {
        "id": "n7NJvQP6hKa4"
      }
    },
    {
      "cell_type": "code",
      "source": [
        "# Ganti elemen yang ada pada List yang kalian buat\n",
        "\n",
        "# Terurut/ordered\n",
        "print('Memanggil List L4 dengan indeks urutan:', L4[0:4])\n",
        "\n",
        "# Bisa diganti/Mutable\n",
        "L4[2] = 8\n",
        "print(\"List L4 setelah diganti elemennya: \", L4)\n",
        "\n",
        "L4 = [1, \"delapan\", True, 2+3j]\n",
        "\n",
        "# Dapat diindeks/Slicing\n",
        "print(\"slicing List L4: \", L4[2])\n",
        "\n",
        "# Dapat diijinkan Duplikasi\n",
        "L4 = [1, \"dua\", True, 2+3j, 2+3j]\n",
        "print(\"Duplikasi pada List L4: \", L4)"
      ],
      "metadata": {
        "colab": {
          "base_uri": "https://localhost:8080/"
        },
        "id": "442grRNihGJz",
        "outputId": "7e7775c9-554b-46d4-df21-48a1e160ed70"
      },
      "execution_count": null,
      "outputs": [
        {
          "output_type": "stream",
          "name": "stdout",
          "text": [
            "Memanggil List L4 dengan indeks urutan: [1, 'dua', True, (2+3j)]\n",
            "List L4 setelah diganti elemennya:  [1, 'dua', 8, (2+3j), (2+3j)]\n",
            "slicing List L4:  True\n",
            "Duplikasi pada List L4:  [1, 'dua', True, (2+3j), (2+3j)]\n"
          ]
        }
      ]
    }
  ]
}
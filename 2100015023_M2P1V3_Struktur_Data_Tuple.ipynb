{
  "nbformat": 4,
  "nbformat_minor": 0,
  "metadata": {
    "colab": {
      "name": "2100015023_M2P1V3_Struktur_Data_Tuple.ipynb",
      "provenance": []
    },
    "kernelspec": {
      "name": "python3",
      "display_name": "Python 3"
    },
    "language_info": {
      "name": "python"
    }
  },
  "cells": [
    {
      "cell_type": "markdown",
      "source": [
        "Nama : Robiah Al Adawiyah\n",
        "\n",
        "Nim : 2100015023"
      ],
      "metadata": {
        "id": "O-uNr-rLkuHo"
      }
    },
    {
      "cell_type": "markdown",
      "source": [
        "# **Struktur Data Tuple**\n",
        "\n",
        "Tuple adalah jenis dari struktur data yang tidak dapat diubah elemennya. Umumnya tuple digunakan untuk data yang bersifat sekali tulis, dan dapat dieksekusi lebih cepat. Tuple didefinisikan dengan kurung dan elemen yang dipisahkan dengan koma."
      ],
      "metadata": {
        "id": "rsg3il4QkzEW"
      }
    },
    {
      "cell_type": "code",
      "execution_count": null,
      "metadata": {
        "colab": {
          "base_uri": "https://localhost:8080/"
        },
        "id": "2rb6dynYiGll",
        "outputId": "e8c6e6cf-3f56-4c58-f147-79f8dd838778"
      },
      "outputs": [
        {
          "output_type": "stream",
          "name": "stdout",
          "text": [
            "ini adalah tuple (1, 'dua', True, (1+2j))\n"
          ]
        }
      ],
      "source": [
        "# contoh Tuple\n",
        "T1 = (1,\"dua\", True, 1+2j)\n",
        "print(\"ini adalah tuple\", T1)"
      ]
    },
    {
      "cell_type": "code",
      "source": [
        "# menampilkan tipe struktur data\n",
        "type(T1)"
      ],
      "metadata": {
        "colab": {
          "base_uri": "https://localhost:8080/"
        },
        "id": "r_X5EJDClqZH",
        "outputId": "5d31bf7d-1f7d-4d3b-e809-fbfaba25fcf2"
      },
      "execution_count": null,
      "outputs": [
        {
          "output_type": "execute_result",
          "data": {
            "text/plain": [
              "tuple"
            ]
          },
          "metadata": {},
          "execution_count": 2
        }
      ]
    },
    {
      "cell_type": "markdown",
      "source": [
        "**Latihan 1**"
      ],
      "metadata": {
        "id": "DxYRj06dlz1A"
      }
    },
    {
      "cell_type": "code",
      "source": [
        "# Buatlah tuplemu sendiri\n",
        "T3 = (\"aku\",3.5, False, 2+3j)\n",
        "print(type(T3))\n",
        "T3"
      ],
      "metadata": {
        "colab": {
          "base_uri": "https://localhost:8080/"
        },
        "id": "AksyK8iHlxQu",
        "outputId": "36a89cf7-1678-454e-d638-69da357c4e62"
      },
      "execution_count": null,
      "outputs": [
        {
          "output_type": "stream",
          "name": "stdout",
          "text": [
            "<class 'tuple'>\n"
          ]
        },
        {
          "output_type": "execute_result",
          "data": {
            "text/plain": [
              "('aku', 3.5, False, (2+3j))"
            ]
          },
          "metadata": {},
          "execution_count": 4
        }
      ]
    },
    {
      "cell_type": "markdown",
      "source": [
        "**Sifat-Sifat Tupple**"
      ],
      "metadata": {
        "id": "BpoUDh1Xmcdw"
      }
    },
    {
      "cell_type": "code",
      "source": [
        "# Terurut/ordered\n",
        "T1[0:3]"
      ],
      "metadata": {
        "colab": {
          "base_uri": "https://localhost:8080/"
        },
        "id": "VTYFi8-AmhNy",
        "outputId": "d78fc0bf-6782-4fcc-a073-61e025197260"
      },
      "execution_count": null,
      "outputs": [
        {
          "output_type": "execute_result",
          "data": {
            "text/plain": [
              "(1, 'dua', True)"
            ]
          },
          "metadata": {},
          "execution_count": 5
        }
      ]
    },
    {
      "cell_type": "code",
      "source": [
        "# Tidak bisa diganti/Immutable\n",
        "T1[1] = 'manusia'"
      ],
      "metadata": {
        "colab": {
          "base_uri": "https://localhost:8080/",
          "height": 183
        },
        "id": "4-FbvwXHm06S",
        "outputId": "8a002c38-a82d-40a0-b034-befc1deec266"
      },
      "execution_count": null,
      "outputs": [
        {
          "output_type": "error",
          "ename": "TypeError",
          "evalue": "ignored",
          "traceback": [
            "\u001b[0;31m---------------------------------------------------------------------------\u001b[0m",
            "\u001b[0;31mTypeError\u001b[0m                                 Traceback (most recent call last)",
            "\u001b[0;32m<ipython-input-6-ce3190b00e46>\u001b[0m in \u001b[0;36m<module>\u001b[0;34m()\u001b[0m\n\u001b[1;32m      1\u001b[0m \u001b[0;31m# Tidak bisa diganti/Immutable\u001b[0m\u001b[0;34m\u001b[0m\u001b[0;34m\u001b[0m\u001b[0;34m\u001b[0m\u001b[0m\n\u001b[0;32m----> 2\u001b[0;31m \u001b[0mT1\u001b[0m\u001b[0;34m[\u001b[0m\u001b[0;36m1\u001b[0m\u001b[0;34m]\u001b[0m \u001b[0;34m=\u001b[0m \u001b[0;34m'manusia'\u001b[0m\u001b[0;34m\u001b[0m\u001b[0;34m\u001b[0m\u001b[0m\n\u001b[0m",
            "\u001b[0;31mTypeError\u001b[0m: 'tuple' object does not support item assignment"
          ]
        }
      ]
    },
    {
      "cell_type": "code",
      "source": [
        "# Dapat diindeks/Slicing\n",
        "print(\"elemen kedua dari tuple T1 adalah: \", T1[1])"
      ],
      "metadata": {
        "colab": {
          "base_uri": "https://localhost:8080/"
        },
        "id": "pAtenLxIm-dO",
        "outputId": "4b0517bc-fadb-42be-b617-32fd6f2e0103"
      },
      "execution_count": null,
      "outputs": [
        {
          "output_type": "stream",
          "name": "stdout",
          "text": [
            "elemen kedua dari tuple T1 adalah:  dua\n"
          ]
        }
      ]
    },
    {
      "cell_type": "code",
      "source": [
        "# Dapat diijinkan duplikasi\n",
        "T2 = (3, 2.4, True, 2.4)\n",
        "T2"
      ],
      "metadata": {
        "colab": {
          "base_uri": "https://localhost:8080/"
        },
        "id": "Ra71UrcUngpz",
        "outputId": "4a005ce6-6cdf-4cd3-91ae-043f357eb287"
      },
      "execution_count": null,
      "outputs": [
        {
          "output_type": "execute_result",
          "data": {
            "text/plain": [
              "(3, 2.4, True, 2.4)"
            ]
          },
          "metadata": {},
          "execution_count": 9
        }
      ]
    },
    {
      "cell_type": "markdown",
      "source": [
        "**Menggabungkan Tuple**"
      ],
      "metadata": {
        "id": "FKaNq373n-Rd"
      }
    },
    {
      "cell_type": "code",
      "source": [
        "# Menggabungkan Tuple\n",
        "T4 = T1 + T2\n",
        "T4"
      ],
      "metadata": {
        "colab": {
          "base_uri": "https://localhost:8080/"
        },
        "id": "lH4xNr8woCDR",
        "outputId": "397ab4b1-9a3c-415d-8c13-2291bd590418"
      },
      "execution_count": null,
      "outputs": [
        {
          "output_type": "execute_result",
          "data": {
            "text/plain": [
              "(1, 'dua', True, (1+2j), 3, 2.4, True, 2.4)"
            ]
          },
          "metadata": {},
          "execution_count": 11
        }
      ]
    },
    {
      "cell_type": "markdown",
      "source": [
        "**Latihan 2**"
      ],
      "metadata": {
        "id": "eDLzFPBHoOjZ"
      }
    },
    {
      "cell_type": "code",
      "source": [
        "# Buatlah Tuple kedua lalu gabungkan tuple yang telah kamu buat "
      ],
      "metadata": {
        "id": "3mUERFCeoRTY"
      },
      "execution_count": null,
      "outputs": []
    },
    {
      "cell_type": "code",
      "source": [
        "T5 = (3.5, \"kamu\", True, 3)\n",
        "T5"
      ],
      "metadata": {
        "colab": {
          "base_uri": "https://localhost:8080/"
        },
        "id": "GsLOCjXHojdC",
        "outputId": "423a8f3c-ff62-4d57-9934-86afd8536fa9"
      },
      "execution_count": null,
      "outputs": [
        {
          "output_type": "execute_result",
          "data": {
            "text/plain": [
              "(3.5, 'kamu', True, 3)"
            ]
          },
          "metadata": {},
          "execution_count": 12
        }
      ]
    },
    {
      "cell_type": "code",
      "source": [
        "T6 = T3 + T5\n",
        "T6"
      ],
      "metadata": {
        "colab": {
          "base_uri": "https://localhost:8080/"
        },
        "id": "DYK2KfT2oumg",
        "outputId": "eed78d3b-fa5f-461e-856b-b5c01017f6db"
      },
      "execution_count": null,
      "outputs": [
        {
          "output_type": "execute_result",
          "data": {
            "text/plain": [
              "('aku', 3.5, False, (2+3j), 3.5, 'kamu', True, 3)"
            ]
          },
          "metadata": {},
          "execution_count": 13
        }
      ]
    }
  ]
}